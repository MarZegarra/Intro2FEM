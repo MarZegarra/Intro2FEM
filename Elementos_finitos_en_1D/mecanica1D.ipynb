{
 "cells": [
  {
   "cell_type": "markdown",
   "metadata": {},
   "source": [
    "# Modelado mecánico en 1D\n",
    "\n",
    "## Barra \n",
    "Para que veamos una aplicación del modelado en 1D, veremos el desplazamiento vertical ($u$, en [m]) de una barra de longitud $L$ sometida a una fuerza por unidad de longitud $f$ [N/m]. Esta fuerza puede ser el peso por unidad de longitud ($f = mg/L$, donde $m$ es la masa y $g$ es la aceleración de la gravedad).\n",
    "\n",
    "[<img src=\"barra.png\" width=\"400\"/>](barra.png)\n",
    "\n",
    "Utilizaremos la primera ley de Newton, es decir, $\\sum F = 0$. Para esto, tomamos la fuerza en los límites de la barra y además el peso de la barra que actúa en todo el intervalo. Si tomamos $x$ positiva hacia abajo, tenemos la ecuación:\n",
    "\n",
    "$$A\\left( x_{1} \\right) \\sigma \\left(x_{1}\\right)-A\\left( x_{0} \\right) \\sigma \\left(x_{0}\\right)+\\int_{x_{0}}^{x_{1}} f \\ dx =0$$\n",
    "\n",
    "Aquí utilizamos la definición de esfuerzo $\\sigma = \\frac{F}{A}$, $A$ es el área de la sección de la barra. Operando un poco:\n",
    "\n",
    "$$\\frac{A\\left( x_{1} \\right) \\sigma \\left(x_{1}\\right)-A\\left( x_{0} \\right) \\sigma \\left(x_{0}\\right) }{x_{1}-x_{0}}=\\frac{ -\\int_{x_{0}}^{x_{1}} f \\ dx}{x_{1}-x_{0}}$$\n",
    "\n",
    "Si tomamos el límite de $x_{1}$ tendiendo a $x_{0}$ tendremos:\n",
    "\n",
    "$$\\lim_{x_{1}\\rightarrow x_{0}}\\frac{A\\left( x_{1} \\right) \\sigma \\left(x_{1}\\right)-A\\left( x_{0} \\right) \\sigma \\left(x_{0}\\right) }{x_{1}-x_{0}}= \\lim_{x_{1}\\rightarrow x_{0}}\\frac{ -\\int_{x_{0}}^{x_{1}} f \\ dx}{x_{1}-x_{0}}$$\n",
    "\n",
    "la parte izquierda de la ecuación es la definición de la derivada, y la derecha es simplemente $-f$ porque es la derivada de la integral.\n",
    "\n",
    "$$\\left(A\\sigma\\right)^{'} = -f \\tag{1}.$$\n",
    "\n",
    "Según la [ley Hooke](https://es.wikipedia.org/wiki/Ley_de_elasticidad_de_Hooke) $\\sigma = E \\epsilon$ donde $E$ es el [módulo de Young](https://es.wikipedia.org/wiki/M%C3%B3dulo_de_Young) y $\\epsilon$ es la deformación. Cuando estamos en la zona lineal para deformaciones unidimensionales vale la siguiente expresión $\\epsilon=\\frac{\\ell-\\ell_{0}}{\\ell_{0}}$ ($\\ell$ es la longitud variable de la barra y con subíndice cero es la longitud inicial). En nuestro caso, para relacionar la deformación con el desplazamiento utilizaremos la definición [$\\epsilon = \\frac{\\partial u}{\\partial x} = u^{'}$](https://es.wikipedia.org/wiki/Deformaci%C3%B3n#Deformaci%C3%B3n_unidimensional). Entonces reemplazando en la Ec. (1) tenemos:\n",
    "\n",
    "$$-\\left(AEu^{'}\\right)^{'}=f\\tag{2}$$\n",
    "\n",
    "Si la sección es constante y la barra es del mismo material (homogéno) entonces tanto $A$ como $E$ no serán funciones de $x$, serán constantes. Entonces queda:\n",
    "\n",
    "$$-AEu^{''}=f\\tag{3}$$\n",
    "\n",
    "esta es la ecuación de Poisson que ya vimos en el tutorial de [Elementos Finitos en 1D](https://nbviewer.jupyter.org/github/rirastorza/Intro2FEM/blob/master/Elementos_finitos_en_1D/fem1D.ipynb). Se resuelve de la misma forma.\n",
    "\n",
    "## Condiciones de frontera\n",
    "\n",
    "En esta sección veremos el significado mecánico de los diferentes tipos de condiciones de frontera (o borde, o contorno):\n",
    "\n",
    "- [Dirichlet](https://en.wikipedia.org/wiki/Dirichlet_boundary_condition)\n",
    "- [Neumann](https://es.wikipedia.org/wiki/Condici%C3%B3n_de_frontera_de_Neumann)\n",
    "- [Robin](https://es.wikipedia.org/wiki/Condici%C3%B3n_de_frontera_de_Robin)\n",
    "\n",
    "### Condición de Dirichlet\n",
    "\n",
    "En esta condición se pide que la frontera tenga un desplazamiento conocido, puede ser constante o variable, pero debe ser conocido. Nosotros tomaremos la primer opción, es decir, si $x_{0}$ es la frontera entonces:\n",
    "\n",
    "$$u\\left(x_{0}\\right) = g_{0} \\tag{4}$$\n",
    "\n",
    "donde $g_{0}$ es una constante. Por ejemplo: si en $x_{0}=0 $ m la barra está amurada a la pared (ver Figura (a), al final del tutorial), el desplazamiento será nulo, por lo tanto lo escribiremos:\n",
    "\n",
    "$$u\\left(0\\right) = 0$$\n",
    "\n",
    "Remarcamos que aquí debemos conocer una constante $g_{0}$.\n",
    "\n",
    "### Condición de Neumann\n",
    "\n",
    "Para imponer una condición de esfuerzo tomaremos una condición de Neumann, que se define como:\n",
    "\n",
    "$$ u^{'}\\left(x_{0}\\right) = \\ \\text{constante} \\tag{5}$$\n",
    "\n",
    "es decir, la derivada del desplazamiento debe ser constante. Aquí la escribiremos de la forma:\n",
    "\n",
    "$$A\\underbrace{Eu^{'}\\left(x_{0}\\right)}_{\\sigma\\left(x_{0}\\right)} = g_{0}\\Rightarrow \\underbrace{A\\sigma\\left(x_{0}\\right)}_{F\\left(x_{0}\\right)} = g_{0}$$\n",
    "\n",
    "quiere decir que la condición está imponiendo una fuerza constante en $x_{0}$. Por ejemplo, que la barra tenga colgada una masa en ese extremo (ver Figura (b)).\n",
    "\n",
    "Aquí nuevamente necesitamos una sola constante para definir la condición, $g_{0}$.\n",
    "\n",
    "### Condición de Robin\n",
    "\n",
    "Esta condición es una mezcla de las dos anteriores. Utilizaremos la expresión:\n",
    "\n",
    "$$AEu^{'}\\left(x_{0}\\right) = k_{0}\\left(u\\left(x_{0}\\right)-g_{0}\\right) \\tag{6}$$\n",
    "\n",
    "Se puede pensar como una barra sujeta a un resorte de constante $k_{0}$, noten que la fuerza del resorte será $k_{0}\\left(u\\left(x_{0}\\right)-g_{0}\\right)$ (ver Figura (c)). \n",
    "\n",
    "Noten que aquí necesitamos dos constantes: $k_{0}$ y $g_{0}$.\n",
    "\n",
    "[<img src=\"barrabordes.png\" width=\"800\"/>](barrabordes.png)\n"
   ]
  },
  {
   "cell_type": "markdown",
   "metadata": {},
   "source": [
    "## Ejemplo aplicando condición de Neumann \n",
    "\n",
    "En esta sección desarrollaremos un ejemplo de aplicación en FEniCS donde utilizaremos el modelo de la Figura (b). Es decir, una barra cargada por una masa $M$ (la fuerza ejercida será $Mg$) y su propio peso.\n",
    "\n",
    "Para esto debemos reutilizar parte del código que vimos en la sección del tutorial de [este enlace](https://github.com/rirastorza/Intro2FEM/blob/master/Elementos_finitos_en_1D/fem1D_introFEniCS.ipynb). Con la diferencia que ahora partimos de una formulación variacional un poco más completa.\n",
    "\n",
    "$$AE\\left [\\int_{0}^{L}v^{'}u^{'}dx + u^{'}(0)v(0) - u^{'}(L)v(L)\\right ] = \\int_{0}^{L} fvdx \\tag{7}$$\n",
    "\n",
    "Aquí el término con $v(0)$ no nos interesa porque en ese borde la condición es de Dirichlet, pero en el caso de $v(L)$ aparece $u^{'}(L)$ y en este caso, habrá una condición de borde de Neumann. Entonces nos quedamos con:\n",
    "\n",
    "$$AE\\int_{0}^{L}v^{'}u^{'}dx - \\underbrace{AEu^{'}(L)}_{Mg}v(L) = \\int_{0}^{L} fvdx \\tag{8},$$\n",
    "\n",
    "operando un poco llegamos a la expresión:\n",
    "\n",
    "$$AE\\int_{0}^{L}v^{'}u^{'}dx  = \\int_{0}^{L} fvdx + \\int_{\\Gamma_{N}} Mg \\ v \\ ds \\tag{9},$$\n",
    "\n",
    "Aquí hay un término del que todavía no hemos hablado nunca ($\\int_{\\Gamma_{N}} Mg \\ v \\ ds$). En palabras podemos decir que es la forma de decirle a FEniCS que el valor de $u^{'}$ en el borde (dominio $\\Gamma_{N}$) tiene que ser $Mg$ en la dirección normal, por eso utilizamos $ds$ que es el diferencial en el borde. En este caso es un punto, si trabajamos en 2D será una línea y en 3D una superficie. Ya hablaremos con más detalle más adelante.\n",
    "\n",
    "Entonces, la primera parte del código será parecida a lo que ya hemos visto."
   ]
  },
  {
   "cell_type": "markdown",
   "metadata": {},
   "source": [
    "### Código en FEniCS\n",
    "\n",
    "Ejecutar este documento en forma dinámica: [![Open In Colab](https://colab.research.google.com/assets/colab-badge.svg)](https://colab.research.google.com/github/rirastorza/Intro2FEM/blob/master/Elementos_finitos_en_1D/mecanica1D.ipynb)\n",
    "\n",
    "\n",
    "Para correr en google colab ejecutar la siguientes instrucciones (https://fem-on-colab.github.io/).\n"
   ]
  },
  {
   "cell_type": "code",
   "execution_count": 1,
   "metadata": {},
   "outputs": [],
   "source": [
    "from __future__ import print_function\n",
    "from fenics import *\n",
    "# Defino la malla\n",
    "nx = 10 #numero de intervalos\n",
    "l0 = 1.0 #Longitud 1 m\n",
    "Mg = 2.0 #en Newtons\n",
    "A = 0.01*0.01 #sección 1cmx1cm\n",
    "E = 210.0e9 #210 GPa\n",
    "rho = 7850.0 #kg/m**3\n",
    "vol = A*l0\n",
    "g = 9.81 #m/s**2\n",
    "minx, maxx= 0.0, l0 \n",
    "mesh = IntervalMesh(nx, minx, maxx)#malla en 1D \n",
    "V0 = FunctionSpace(mesh, 'CG',1)#Continuous Lagrange elements\n",
    "\n",
    "# Defino la condición de borde de Dirichlet\n",
    "def borde_Ar(x, on_boundary): \n",
    "    tol = 1.E-14\n",
    "    return on_boundary and near(x[0], 0.0, tol)\n",
    "\n",
    "\n",
    "class borde_Ab(SubDomain):\n",
    "    def inside(self, x, on_boundary):\n",
    "        tol = 1E-14\n",
    "        l0 = 1.0\n",
    "        return on_boundary and near(x[0], l0, tol)"
   ]
  },
  {
   "cell_type": "markdown",
   "metadata": {},
   "source": [
    "La única diferencia es la clase *borde_Ab* en la cual creamos una función para marcar el borde de abajo."
   ]
  },
  {
   "cell_type": "code",
   "execution_count": 2,
   "metadata": {},
   "outputs": [],
   "source": [
    "#Función de la malla con parámetro que indica la topología\n",
    "marcador_borde = MeshFunction(\"size_t\", mesh, mesh.topology().dim()-1, 0)\n",
    "#Marcadores en el borde de abajo\n",
    "b_ab = borde_Ab()\n",
    "b_ab.mark(marcador_borde, 20)"
   ]
  },
  {
   "cell_type": "markdown",
   "metadata": {},
   "source": [
    "Luego, definimos el diferencial del borde (subdominio) a partir del marcador creado (*marcador_borde*)."
   ]
  },
  {
   "cell_type": "code",
   "execution_count": 3,
   "metadata": {},
   "outputs": [],
   "source": [
    "ds = Measure('ds', domain=mesh, subdomain_data=marcador_borde)\n",
    "bc_ar = DirichletBC(V0, Constant(0.0), borde_Ar)\n",
    "bc = [bc_ar]"
   ]
  },
  {
   "cell_type": "markdown",
   "metadata": {},
   "source": [
    "Entonces, ya tenemos marcado con el valor 20 el borde de abajo, en el que vamos a poner el peso $Mg$. Comenzamos a escribir la formulación variacional tal como está escrito en la Ec. (9)."
   ]
  },
  {
   "cell_type": "code",
   "execution_count": 4,
   "metadata": {},
   "outputs": [],
   "source": [
    "u = TrialFunction(V0)\n",
    "v = TestFunction(V0)\n",
    "f = Constant(rho*vol*g/l0)\n",
    "\n",
    "a = A*E*dot(grad(u), grad(v))*dx\n",
    "L = f*v*dx+(Mg)*v*ds(20)"
   ]
  },
  {
   "cell_type": "markdown",
   "metadata": {},
   "source": [
    "Ahora, resuelvo y grafico."
   ]
  },
  {
   "cell_type": "code",
   "execution_count": 5,
   "metadata": {},
   "outputs": [
    {
     "name": "stdout",
     "output_type": "stream",
     "text": [
      "Solving linear variational problem.\n",
      "Cantidad de celdas: 10\n",
      "Cantidad de vertices: 11\n",
      "Masa barra:  7.700850000000001\n",
      "Solución analítica:  9.523809523809524e-08\n"
     ]
    },
    {
     "data": {
      "image/png": "[encoded data removed]",
      "text/plain": [
       "<Figure size 432x288 with 1 Axes>"
      ]
     },
     "metadata": {
      "needs_background": "light"
     },
     "output_type": "display_data"
    }
   ],
   "source": [
    "u = Function(V0)\n",
    "solve(a == L, u, bc)\n",
    "\n",
    "\n",
    "import matplotlib.pyplot as plt\n",
    "\n",
    "#Extraigo los datos de la solucion u.\n",
    "uh = u.compute_vertex_values(mesh) \n",
    "\n",
    "print('Cantidad de celdas:',nx)\n",
    "print('Cantidad de vertices:',len(uh))\n",
    "print('Masa barra: ', rho*vol*g)\n",
    "print('Solución analítica: ',(Mg*l0/(A*E)))\n",
    "\n",
    "fig, axs = plt.subplots(1,1)\n",
    "\n",
    "import numpy as np\n",
    "\n",
    "xu = np.linspace(0.0, 1.0, len(uh),endpoint = True)\n",
    "xt = np.linspace(0.0, 1.0, 200,endpoint = True)\n",
    "ut = rho*g*(l0*xt-xt*xt/2.0)/E\n",
    "\n",
    "axs.plot(xu,uh,'ro',markersize=5)\n",
    "axs.plot(xt,ut,'b')\n",
    "axs.hlines((Mg*l0/(A*E))+ut[-1],0,l0,linestyles='dashed')\n",
    "plt.title('Campo de desplazamientos u(x)')\n",
    "plt.show();"
   ]
  },
  {
   "cell_type": "markdown",
   "metadata": {},
   "source": [
    "Aquí estamos comparando con los valores teóricos que encontramos [aquí](https://engcourses-uofa.ca/books/introduction-to-solid-mechanics/approximate-methods/approximate-methods-the-rayleigh-ritz-method/bars-under-axial-loads/). En azul, está la solución del desplazamiento si sólo estuviera actuando el peso de la barra (verifíquelo colocando $Mg = 0$). En línea punteada está el límite utilizando la ley de Hooke:\n",
    "\n",
    "$$\\frac{Mg}{A} = E \\frac{\\ell_{f}-\\ell_{0}}{\\ell_{0}} \\Rightarrow \\ell_{f}-\\ell_{0} = \\ell_{0}\\frac{Mg}{AE}$$\n",
    "\n",
    "y a esto le sumamos el desplazamiento de la punta de la barra por su propio peso (en el código $ut[-1]$)."
   ]
  },
  {
   "cell_type": "code",
   "execution_count": null,
   "metadata": {},
   "outputs": [],
   "source": []
  }
 ],
 "metadata": {
  "kernelspec": {
   "display_name": "Python 3 (ipykernel)",
   "language": "python",
   "name": "python3"
  },
  "language_info": {
   "codemirror_mode": {
    "name": "ipython",
    "version": 3
   },
   "file_extension": ".py",
   "mimetype": "text/x-python",
   "name": "python",
   "nbconvert_exporter": "python",
   "pygments_lexer": "ipython3",
   "version": "3.10.12"
  }
 },
 "nbformat": 4,
 "nbformat_minor": 2
}
