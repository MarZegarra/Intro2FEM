{
 "cells": [
  {
   "cell_type": "markdown",
   "metadata": {},
   "source": [
    "# Ecuaciones de elasticidad estática en 2D\n",
    "\n",
    "Nota: a este documento no lo podremos ejecutar de manera dinámica con Binder, sólo lo podrán correr si tienen instalado:\n",
    "\n",
    "- Python 3.5 o más nuevo instalado.\n",
    "- [Jupyter Notebook](https://jupyter.readthedocs.io/en/latest/install.html).\n",
    "- [FEniCS](https://fenicsproject.org/).\n",
    "\n",
    "### Referencias\n",
    "- Mark S. Gockenbach, [Understanding and Implementing the Finite Element Method](https://my.siam.org/Store/Product/viewproduct/?ProductId=997) (2006), Siam.\n",
    "- También sacamos el ejemplo del siguiente [enlace](https://comet-fenics.readthedocs.io/)."
   ]
  },
  {
   "cell_type": "markdown",
   "metadata": {},
   "source": [
    "## Introducción y definiciones\n",
    "\n",
    "### Ecuaciones de equilibrio de Cauchy \n",
    "\n",
    "Pensemos en un sólido elástico con un volumen $\\Omega$ y sea $\\omega$ una región arbitraria de ese sólido con bordes $\\partial \\omega$ y un vector normal a ese borde $n$. Hemos visto en ejemplos anteriores que sobre un sólido pueden actuar fuerzas denominadas **fuerza de cuerpo**, por ejemplo, la que utilizaremos más a menudo es el peso, que actuará en $\\omega$ (en dos dimensiones será un vector $f=\\left[0, -9,81 \\right]^{T}$). También pueden actuar fuerzas en el borde $\\partial\\omega$, para esto necesariamente tendremos que definir el **tensor de tensiones $\\sigma$** (tensor de segundo órden) y tendrán la forma $\\sigma \\cdot n$, cuyos componentes los podré calcular con:\n",
    "\n",
    "$$\\left( \\sigma \\cdot n \\right)_{i} = \\sum_{j=1}^{3}\\sigma_{ij} n_{j}  \\tag{1}$$\n",
    "\n",
    "Las componentes $\\sigma_{ij}$ expresan la fuerza por unidad de área en la dirección $x_{i}$ sobre una superficie con dirección ormal en la dirección de $x_{j}$. Para esclarecer, en la figura se ve un corte y el componente normal al plano $zy$ y las dos componentes tangenciales (pusimos como subíndices letras para que sea más fácil de ver). \n",
    "\n",
    "[<img src=\"figura3.png\" width=\"250\"/>](figura3.png)\n",
    "\n",
    "Si planteamos equilibrio de rotación en tres planos perpendiculares entre si en una infinitesimal, entonces tendremos que las componentes $\\tau_{ij}=\\tau_{ji}$. Por lo tanto, este tensor tendrá sólo 6 componentes diferentes (independientes). Si sumamos el peso (integrando) y las fuerzas en los bordes (integrando en los bordes), tendremos la fuerza neta entonces:\n",
    "\n",
    "$$F = \\int_{\\omega} f dx +  \\int_{\\partial\\omega} \\sigma\\cdot n \\ ds \\tag{2}$$\n",
    "\n",
    "Utilizando el teorema de la divergencia visto [antes](https://github.com/rirastorza/Intro2FEM/blob/master/Elementos_finitos_en_2D/fem2D.ipynb), podemos expresar Ec. (2) como:\n",
    "\n",
    "$$F = \\int_{\\omega}\\left( f + \\nabla \\cdot \\sigma \\right)\\ dx \\tag{3}$$\n",
    "\n",
    "Como el problema es estático la primera ley de Newton dice que la fuerza neta debe ser nula $F=0$, entonces:\n",
    "\n",
    "$$f + \\nabla \\cdot \\sigma = 0 \\tag{4}$$\n",
    "\n",
    "esta se denomina ecuación de equilibrio de Cauchy. La escribimos completa para que se vea:\n",
    "\n",
    "$$ f_{1}+ \\frac{\\partial \\sigma_{11}}{\\partial x_{1}}+ \\frac{\\partial \\sigma_{12}}{\\partial x_{2}}+ \\frac{\\partial \\sigma_{13}}{\\partial x_{3}}=0\\\\ \n",
    "f_{2}+ \\frac{\\partial \\sigma_{21}}{\\partial x_{1}}+ \\frac{\\partial \\sigma_{22}}{\\partial x_{2}}+ \\frac{\\partial \\sigma_{23}}{\\partial x_{3}}=0\\\\  \n",
    "f_{3}+ \\frac{\\partial \\sigma_{31}}{\\partial x_{1}}+ \\frac{\\partial \\sigma_{32}}{\\partial x_{2}}+ \\frac{\\partial \\sigma_{33}}{\\partial x_{3}}=0\n",
    "$$\n",
    "\n",
    "Ahora es conveniente definir el **desplazamiento $u$**. Si pensamos en 2D, supongamos que tenemos un punto que tiene coordenadas $\\left(x,y\\right)$, definimos el vector desplazamiento $u = \\left[u_{1},u_{2}\\right]^{T}$ (cada una de las componentes será una función de $x$ e $y$) de tal forma que punto mencionado se traslada a $\\left(x+u_{1}(x,y),y+u_{2}(x,y)\\right)$. Bajo las condiciones de pequeños gradientes de desplazamientos se puede definir la **deformación** como el tensor:\n",
    "\n",
    "$$\\varepsilon = \\frac{1}{2} \\left( \\nabla u + \\nabla u^{T} \\right) \\tag{5}$$\n",
    "\n",
    "cuyas componentes son:\n",
    "\n",
    "$$\\varepsilon_{ij} = \\frac{1}{2} \\left( \\frac{\\partial u_{i}}{\\partial x_{j}}+\\frac{\\partial u_{j}}{\\partial x_{i}} \\right) \\tag{6}$$\n",
    "\n",
    "para $i,j = 1,2,3$. Recordemos que debería ser invariante a la traslación y rotación, aunque esta última no se cumple totalmente. Sólo se cumple cuando las rotaciones son pequeñas.\n",
    "Las componentes diagonales $\\varepsilon_{ii}$ son los cambios relativos en longitud sobre el eje $x_{i}$. Los componentes $\\varepsilon_{ij}$ son una magnitud proporcional al cambio de ángulo entre la coordenada del eje $x_{i}$ y el $x_{j}$, que inicialmente eran ortogonales.\n",
    "\n",
    "### Ley de Hooke\n",
    "\n",
    "Ahora veremos la relación entre tensiones, deformaciones y desplazamientos. Para un material elástico lineal e isotrópico, esto lo describe la ley de Hooke:\n",
    "\n",
    "$$\\sigma = 2\\mu\\varepsilon\\left(u\\right)+\\lambda \\left(\\nabla \\cdot u\\right) I \\tag{7}$$\n",
    "\n",
    "donde $I$ es la matriz identidad de $3\\times 3$. Los parámetros $\\mu$ y $\\lambda$ son los [**parámetros de Lamé**](https://es.wikipedia.org/wiki/Par%C3%A1metros_de_Lam%C3%A9):\n",
    "\n",
    "$$\\mu = \\frac{E}{2\\left(1+\\nu\\right)}\\\\\n",
    "\\lambda = \\frac{E\\nu}{\\left(1+\\nu\\right)\\left(1-2\\nu\\right)}\\tag{8}$$\n",
    "\n",
    "donde $E$ es el módulo de Young y $\\nu$ es el coeficiente de Poisson. Ambos se consideran constantes en todo el material en todas las direcciones. Esta expresión también puede encontrarse en función de la deformación:\n",
    "\n",
    "$$\\sigma = 2\\mu\\varepsilon\\left(u\\right)+\\lambda tr\\left(\\varepsilon\\left(u\\right)\\right) I \\tag{9}$$\n",
    "\n",
    "## Ecuaciones de elasticidad lineal estática\n",
    "\n",
    "Considerando todo lo anterior tenemos las ecuaciones de la formulación dura:\n",
    "\n",
    "$$ \\left \\{ \\begin{array}{l} - \\nabla \\cdot \\sigma = f \\ \\ \\text{ en } \\ \\ \\Omega \\\\   \\sigma = \\lambda tr\\left(\\varepsilon\\right)I+2\\mu \\varepsilon \\\\  \n",
    "\\varepsilon = \\frac{1}{2} \\left( \\nabla u + \\nabla u^{T} \\right)\n",
    "\\end{array} \\right . \\tag{10}$$\n",
    "\n",
    "con condiciones de borde en $\\partial \\Omega$, ya sea Dirichlet, Neumman o Robin.\n",
    "\n",
    "---\n",
    "**Cuidado:** Note que debe estar atento a algunas cosas:\n",
    "\n",
    "- El gradiente del desplazamiento, por ejemplo en 2D, tendrá la forma:\n",
    "\n",
    "$$ \\nabla u = \\begin{bmatrix} \\frac{\\partial u_{1}}{\\partial x} & \\frac{\\partial u_{1}}{\\partial y}\\\\ \n",
    "\\frac{\\partial u_{2}}{\\partial x} & \\frac{\\partial u_{2}}{\\partial y}\\end{bmatrix}$$\n",
    "\n",
    "- La divergencia de la tensión (seguimos en 2D) es:\n",
    "\n",
    "$$ \\nabla \\cdot \\sigma = \\begin{bmatrix} \\frac{\\partial \\sigma_{11}}{\\partial x} + \\frac{\\partial \\sigma_{12}}{\\partial y}\\\\ \n",
    "\\frac{\\partial \\sigma_{21}}{\\partial x} + \\frac{\\partial \\sigma_{22}}{\\partial y}\\end{bmatrix}$$\n",
    "\n",
    "\n",
    "---\n",
    "\n",
    "### Formulación variacional\n",
    "\n",
    "Como hemos hecho hasta ahora, debemos expresar el problema en la formulación débil. Note que tanto $-\\nabla \\cdot \\sigma $ como $f$ son vectores, por lo tanto la función test por la que multiplique también tendrá que ser un vector que vaya de $\\Omega$ a $\\mathbb{R}^{2}$. Si tomamos la Ec. (10) y multiplicamos por $v$ tendremos:\n",
    "\n",
    "$$ \\left(\\nabla \\cdot \\sigma\\right)\\cdot v = f \\cdot v\\tag{11}$$\n",
    "\n",
    "Esto lo podemos escribir de otra forma, utilizando la siguiente expresión que sirve para tensores:\n",
    "\n",
    "$$ \\nabla \\cdot \\left(\\sigma v\\right) = \\left(\\nabla \\cdot \\sigma^{T}\\right)\\cdot v+\\sigma \\cdot \\nabla v^{T}$$\n",
    "\n",
    "como $\\sigma$ es simétrico $\\nabla \\cdot \\sigma^{T}=\\nabla \\cdot \\sigma$ y se verifica que $\\sigma \\cdot \\nabla v^{T} = \\sigma \\cdot \\nabla v = \\sigma \\cdot \\varepsilon_{v}$. En esta última se definió $\\varepsilon_{v}=\\frac{1}{2}\\left(\\nabla v +\\nabla v^{T}\\right)$. Utilizando todo esto, se puede escribir la expresión anterior como:\n",
    "\n",
    "$$\\nabla \\cdot \\left(\\sigma v\\right)=\\left(\\nabla \\cdot \\sigma\\right)\\cdot v+\\sigma\\cdot \\varepsilon_{v} \\Rightarrow \\left(\\nabla \\cdot \\sigma\\right)\\cdot v = \\nabla \\cdot \\left(\\sigma v\\right)-\\sigma\\cdot \\varepsilon_{v} \\tag{12}$$\n",
    "\n",
    "Por lo tanto ahora podemos reescribir la fórmula de Green (recordemos $\\int_{\\Omega} \\nabla\\cdot F = \\int_{\\partial \\Omega} F\\cdot n$) como:\n",
    "\n",
    "$$\\int_{\\Omega} \\left(\\nabla \\cdot \\sigma\\right)\\cdot v dx = \\underbrace{\\int_{\\Omega} \\nabla \\cdot \\left(\\sigma v\\right) \\ dx}_{\\int_{\\partial \\Omega} \\left(\\sigma v \\right)\\cdot n}-\\int_{\\Omega}\\sigma\\cdot \\varepsilon_{v} \\ dx $$\n",
    "\n",
    "Por lo tanto se tiene:\n",
    "\n",
    "$$ -\\int_{\\Omega} \\left( \\nabla \\cdot \\sigma\\right)\\cdot v \\ dx = \\int_{\\Omega} \\sigma \\cdot \\varepsilon_{v} \\ dx - \\int_{\\partial \\Omega} v \\cdot \\left(\\sigma \\cdot n\\right) \\ ds \\tag{13} $$\n",
    "\n",
    "Ahora reemplazamos en la ecuación completa y tenemos:\n",
    "\n",
    "$$ \\int_{\\Omega} \\sigma \\cdot \\varepsilon_{v} \\ dx - \\int_{\\partial \\Omega} v \\cdot \\left(\\sigma \\cdot n\\right) \\ ds = \\int_{\\Omega} f\\cdot v \\ dx \\tag{14} $$\n",
    "\n",
    "La Ec. (14) es la **formulación variacional para deformaciones elásticas pequeñas**.\n",
    "\n",
    "---\n",
    "**Cuidado:** Note que debe estar atento a algunas cosas:\n",
    "- El producto de la parte izquierda de la Ecuación (14) es un producto interno entre tensores, también se puede ver escrito como $\\sigma : \\varepsilon_{v}$\n",
    "\n",
    "---\n",
    "\n",
    "## Ejemplo en 2D: tensiones y deformaciones planas\n",
    "\n",
    "En algunos casos es posibles resolver los problemas en dos dimensiones. El caso que veremos es la clásica viga empotrada que se deforma por su propio peso (como se ve en la figura).\n",
    "\n",
    "[<img src=\"figura4.png\" width=\"250\"/>](figura4.png)\n",
    "\n",
    "El esfuerzo es a lo largo de toda la viga y parece que en z no hay variación. En la aproximación de **tensiones planas** se considera que:\n",
    "\n",
    "$$\\sigma = \\begin{bmatrix} \\sigma_{11} & \\sigma_{12} & 0\\\\\n",
    "\\sigma_{21} & \\sigma_{22} & 0\\\\\n",
    " 0  & 0 & 0\\\\\\end{bmatrix}$$\n",
    "\n",
    "es decir, la tensión en $z$ será nula, pero la deformación que sale del plano no lo será. Se puede demostrar que $\\varepsilon_{zz}= - \\frac{\\lambda}{\\lambda+2\\mu}\\left(\\varepsilon_{xx}+\\varepsilon_{yy}\\right)$. Si introducimos esto en la segunda expresión de la Ec. (10) se tiene:\n",
    "\n",
    "$$\\sigma = \\lambda^{*} tr\\left(\\varepsilon\\right) I +2\\mu\\varepsilon \\tag{15}$$\n",
    "\n",
    "que es una expresión similar al caso general 3D donde se modifica el coeficiente de Lamé $\\lambda$ por $\\lambda^{*}= \\frac{2\\lambda \\mu}{\\lambda+2\\mu}$.\n",
    "\n",
    "### Código\n",
    "\n",
    "Continuamos ahora desarrollando el código, con el enfoque de tensiones planas. Supongamos que la barra tiene 25 cm y de ancho 1 cm. Como siempre, definimos algunos parámetros y luego la malla."
   ]
  },
  {
   "cell_type": "code",
   "execution_count": 1,
   "metadata": {},
   "outputs": [],
   "source": [
    "from __future__ import print_function\n",
    "from dolfin import *\n",
    "\n",
    "L = 25.\n",
    "H = 1.\n",
    "Nx = 50\n",
    "Ny = 10\n",
    "mesh = RectangleMesh(Point(0., 0.), Point(L, H), Nx, Ny, \"crossed\")#Malla estructurada"
   ]
  },
  {
   "cell_type": "markdown",
   "metadata": {},
   "source": [
    "Luego definimos la función que nos calcula la deformación, utilinzando una función simbólica de Python:"
   ]
  },
  {
   "cell_type": "code",
   "execution_count": 2,
   "metadata": {},
   "outputs": [],
   "source": [
    "def eps(v):\n",
    "    return sym(grad(v))"
   ]
  },
  {
   "cell_type": "markdown",
   "metadata": {},
   "source": [
    "Ahora definimos los parámetros de Lamé."
   ]
  },
  {
   "cell_type": "code",
   "execution_count": 3,
   "metadata": {},
   "outputs": [],
   "source": [
    "E = Constant(1e5)\n",
    "nu = Constant(0.3)\n",
    "mu = E/2/(1+nu)\n",
    "lmbda = E*nu/(1+nu)/(1-2*nu)\n",
    "lmbda = 2*mu*lmbda/(lmbda+2*mu)"
   ]
  },
  {
   "cell_type": "markdown",
   "metadata": {},
   "source": [
    "Y la expresión de la tensión en base a la ley de Hooke para medios isotrópicos."
   ]
  },
  {
   "cell_type": "code",
   "execution_count": 4,
   "metadata": {},
   "outputs": [],
   "source": [
    "def sigma(v):\n",
    "    return lmbda*tr(eps(v))*Identity(2) + 2.0*mu*eps(v)"
   ]
  },
  {
   "cell_type": "markdown",
   "metadata": {},
   "source": [
    "Luego el espacio de funciones $V$ y la condición de borde (Dirichlet, empotrado) del lado izquierdo."
   ]
  },
  {
   "cell_type": "code",
   "execution_count": 6,
   "metadata": {},
   "outputs": [],
   "source": [
    "V = VectorFunctionSpace(mesh, 'Lagrange', degree=2)\n",
    "#Condición de borde\n",
    "def left(x, on_boundary):\n",
    "    return near(x[0],0.)\n",
    "\n",
    "bc = DirichletBC(V, Constant((0.,0.)), left)"
   ]
  },
  {
   "cell_type": "markdown",
   "metadata": {},
   "source": [
    "La formulación variacional la obtenemos de la Ec. (14). Aquí repetimos una versión más corta:\n",
    "\n",
    "$$ \\int_{\\Omega} \\sigma \\cdot \\varepsilon_{v} \\ dx = \\int_{\\Omega} f\\cdot v \\ dx \\tag{16} $$\n",
    "\n",
    "en código es:"
   ]
  },
  {
   "cell_type": "code",
   "execution_count": 7,
   "metadata": {},
   "outputs": [],
   "source": [
    "#Formulación variacional\n",
    "rho_g = 1e-3\n",
    "f = Constant((0,-rho_g))\n",
    "u = TrialFunction(V)\n",
    "v = TestFunction(V)\n",
    "a = inner(sigma(u), eps(v))*dx\n",
    "l = inner(f, v)*dx"
   ]
  },
  {
   "cell_type": "markdown",
   "metadata": {},
   "source": [
    "y finalmente resolvemos."
   ]
  },
  {
   "cell_type": "code",
   "execution_count": 14,
   "metadata": {},
   "outputs": [],
   "source": [
    "#Solución\n",
    "u = Function(V, name=\"Desplazamiento\")\n",
    "solve(a == l, u, bc)"
   ]
  },
  {
   "cell_type": "markdown",
   "metadata": {},
   "source": [
    "Para validar numéricamente, lo compararemos con lo obtenido con la solución de Euler-Bernoulli, que podemos encontrar en el siguiente [enlace](http://www.learnaboutstructures.com/Integration-of-the-Curvature-Diagram-to-find-Deflection)."
   ]
  },
  {
   "cell_type": "code",
   "execution_count": 15,
   "metadata": {},
   "outputs": [
    {
     "name": "stdout",
     "output_type": "stream",
     "text": [
      "Teoría: 0.005859375\n",
      "Deflexión máxima: 0.00586144068421511\n"
     ]
    }
   ],
   "source": [
    "print(\"Teoría:\", float(3*rho_g*L**4/2/E/H**3))\n",
    "#Con FEniCS\n",
    "print(\"Deflexión máxima:\", -u(L,H/2.)[1])"
   ]
  },
  {
   "cell_type": "code",
   "execution_count": null,
   "metadata": {},
   "outputs": [],
   "source": []
  }
 ],
 "metadata": {
  "kernelspec": {
   "display_name": "Python 3",
   "language": "python",
   "name": "python3"
  },
  "language_info": {
   "codemirror_mode": {
    "name": "ipython",
    "version": 3
   },
   "file_extension": ".py",
   "mimetype": "text/x-python",
   "name": "python",
   "nbconvert_exporter": "python",
   "pygments_lexer": "ipython3",
   "version": "3.5.2"
  }
 },
 "nbformat": 4,
 "nbformat_minor": 2
}
