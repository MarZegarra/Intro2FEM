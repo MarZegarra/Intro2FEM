{
 "cells": [
  {
   "cell_type": "markdown",
   "metadata": {},
   "source": [
    "# Polinomios constantes a trozo (1D)\n",
    "\n",
    "Ejecutar este documento en forma dinámica: [![Binder](https://mybinder.org/badge_logo.svg)](https://mybinder.org/v2/gh/manuxch/intro2prog/master?filepath=numpy/numpy.ipynb)"
   ]
  },
  {
   "cell_type": "markdown",
   "metadata": {},
   "source": [
    "## Introducción\n",
    "\n",
    "En este tutorial describiremos unas funciones (polinomios lineales a trozos) que son fáciles de implementar en un software y que sirven para aproximar otras funciones. La idea general es: si tenemos puntos de una una función poder crear una función continua como combinación de varias que sean más fáciles de integrar.\n"
   ]
  },
  {
   "cell_type": "markdown",
   "metadata": {},
   "source": [
    "## Polinomios lineales a trozos\n",
    "\n",
    "### Su espacio\n",
    "Se un intervalo real dado por $I = [x_{0},x_{1}]$. Definimos $\\mathbf{P}_{1}(I)$ como todas las funciones lineales de la forma:\n",
    "$$\\mathbf{P}_{1}(I)= \\left \\{   v: v(x)=c_{0}+c_{1}x, x \\in I, c_{0},c_{1} \\in \\mathbb{R} \\right \\}$$\n",
    "\n",
    "### Interpolación de una función\n",
    "El objeto principal de NumPy es un arreglo multidimensional homogéneo. Es una tabla de elementos (números del mismo tipo) indexados como una lista (o tupla) de enteros positivos.\n",
    "Por ejemplo:"
   ]
  },
  {
   "cell_type": "code",
   "execution_count": null,
   "metadata": {},
   "outputs": [],
   "source": []
  }
 ],
 "metadata": {
  "kernelspec": {
   "display_name": "Python 3",
   "language": "python",
   "name": "python3"
  },
  "language_info": {
   "codemirror_mode": {
    "name": "ipython",
    "version": 3
   },
   "file_extension": ".py",
   "mimetype": "text/x-python",
   "name": "python",
   "nbconvert_exporter": "python",
   "pygments_lexer": "ipython3",
   "version": "3.5.2"
  }
 },
 "nbformat": 4,
 "nbformat_minor": 2
}
