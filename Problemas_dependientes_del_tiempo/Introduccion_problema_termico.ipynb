{
 "cells": [
  {
   "cell_type": "markdown",
   "metadata": {},
   "source": [
    "# Problemas dependientes del tiempo\n",
    "\n",
    "Nota: a este documento lo podremos ejecutar de manera dinámica si tienen instalado:\n",
    "\n",
    "- Python 3.5 o más nuevo instalado.\n",
    "- [Jupyter Notebook](https://jupyter.readthedocs.io/en/latest/install.html).\n",
    "- [FEniCS](https://fenicsproject.org/).\n",
    "\n",
    "\n",
    "Ejecutar este documento en forma dinámica: [![Open In Colab](https://colab.research.google.com/assets/colab-badge.svg)](https://colab.research.google.com/github/rirastorza/Intro2FEM/blob/master/Problemas_dependientes_del_tiempo/Introduccion_problema_termico.ipynb)\n",
    "\n",
    "\n",
    "La visualización del mismo es óptima utilizando Jupyter Notebook.\n",
    "\n",
    "### Referencias\n",
    "- Capítulo 5 de Mats G. Larson, Fredrik Bengzon, The Finite Element Method: Theory, Implementation, and Applications. \n",
    "- Capítulo 6 de Hans Petter Langtangen and Kent-Andre Mardal, [Introduction to Numerical Methods for Variational Problems](https://www.springer.com/gp/book/9783030237875) (2019), Springer."
   ]
  },
  {
   "cell_type": "markdown",
   "metadata": {},
   "source": [
    "## Introducción\n",
    "\n",
    "La mayoría de los problemas en la vida real son dependientes del tiempo. Por ejemplo, en el problema que veremos en este tutorial aparece un factor dependiente de la derivada de la temperatura respecto del tiempo $\\frac{dT}{dt}$. Si la geometría es una barra unidimensional de largo $L$ y la temperatura es la variable que queremos calcular entonces ahora tendremos dependencia de la posición $x$ y del tiempo $t$. Entonces, podemos tomar tres estrategias:\n",
    "\n",
    "1. Usar primero diferencias finitas para estimar la derivada respecto del tiempo y luego se tendrá el problema de discretización espacial, que lo resolveremos por elementos finitos.\n",
    "2. Primero discretizar el espacio y luego el tiempo. \n",
    "3. Discretizar espacio y tiempo a la vez.\n",
    "\n",
    "Tomaremos la primer opción. Tal como se estudia habitualmente en la resolución de [ecuaciones diferenciales ordinarias](https://es.wikipedia.org/wiki/Ecuaci%C3%B3n_diferencial_ordinaria), existen diferentes opciones para aproximar en diferencias finitas una derivada de primer órden:\n",
    "\n",
    "- Método de Euler hacia atrás (regresivo, anterior, se puede encontrar de varias maneras, en inglés *backward Euler method*).\n",
    "\n",
    "$$ \\frac{du \\left(t_{n}\\right)}{dt}=\\dot{u}\\left(t_{n}\\right) \\approx \\frac{u^{n}-u^{n-1}}{\\Delta t} \\tag{1}$$\n",
    "\n",
    "Se llama regresivo porque estamos calculando la derivada del paso $n$ utilizando el mismo paso y el anterior ($n-1$). A este método también se lo denomina *implícito* (ya veremos porque). Lo bueno del método es que es *incondicionalmente estable* (nunca va a crecer de manera indefinida) y $\\Delta t$ puede ser elegido arbitrariamente grande (aunque se pierde presición). Hemos usado la notación $u^{n}=u\\left(t_{n}\\right)$. Es una aproximación de *primer órden*.\n",
    "\n",
    "- Método de Euler hacia adelante (progresivo, adelantado, en inglés *forward Euler method*).\n",
    "\n",
    "$$\\frac{du \\left(t_{n}\\right)}{dt}= \\dot{u}\\left(t_{n}\\right) \\approx \\frac{u^{n+1}-u^{n}}{\\Delta t} \\tag{2}$$\n",
    "\n",
    "Note que aquí suponemos que el paso de tiempo es fijo ($\\Delta t$). Se llama progresivo porque estamos calculando la derivada del paso $n$ utilizando el mismo paso y el paso futuro ($n+1$). Este método se lo denomina *explícito*. Este método es *condicionalmente estable*, dado que si se elije muy grande el paso puede crecer la solución (además de perder presición). Es también una aproximación de *primer órden*.\n",
    "\n",
    "\n",
    "Existen otros métodos (ver Apéndice 1 de Langtangen and Mardal, 2019), uno de los más conocidos y más aproximado es el Runge-Kuta, que es un *método explícito de cuarto órden*. Nosotros en el ejemplo siguiente utilizaremos el método de Euler hacia atrás, pero antes, haremos la deducción de la Ecuación del Problema Térmico completa.\n",
    "\n",
    "### Problema térmico\n",
    "\n",
    "Tomemos nuevamente el ejemplo de la **temperatura** $T$ en [K] de una barra de longitud $L$ en [m] (1D). Pensemos también que tiene una **fuente** de calor $f$ por unidad de longitud (en [J/sm] es decir [W/m]). También tendremos la **tasa de flujo de calor** $q$ medido en [J/sm$^{2}$] (la energía que fluye por unidad de tiempo por unidad de área, es decir, en [W/m$^{2}$]). A continuación un esquema.\n",
    "\n",
    "[<img src=\"barra_termica.png\" width=\"400\"/>](barra_termica.png)\n",
    "\n",
    "Pensemos ahora la energía por unidad de longitud $e$, y su derivada $\\dot{e}=\\frac{de}{dt}$, es decir, su tasa de cambio. La ecuación de balance de energía indica que esa tasa de cambio de energía interna debe ser igual a $f$ más la energía que entra y la que sale.\n",
    "\n",
    "$$\\int_{0}^{L} \\ \\dot{e} \\ dx =\\underbrace{A\\left(0\\right)q\\left(0\\right)}_{\\text{Energía que entra}}-\\underbrace{A\\left(L\\right)q\\left(L\\right)}_{\\text{Energía que sale}} +\\underbrace{\\int_{0}^{L} \\ f \\ dx.}_{\\text{Energía generada}}\\tag{3}$$\n",
    "\n",
    "El Teorema fundamental del cálculo nos da la siguiente expresión:\n",
    "\n",
    "$$\\int_{0}^{L} \\ \\dot{e} \\ dx =-\\int_{0}^{L}\\left(Aq\\right)^{'} \\ dx +\\int_{0}^{L} \\ f \\ dx\\tag{4}$$\n",
    "\n",
    "Suponemos también que la energía es proporcional a la temperatura $e=C\\cdot T$ (donde $C=\\rho \\cdot c$ es el producto de la densidad por el calor específico). Si sólamente existe flujo de calor por conducción vale: $ q = - k T^{'}$ donde $k$ es la conductividad térmica. Entonces la Ec. (4) queda:\n",
    "\n",
    "$$\\int_{0}^{L} \\ c\\rho\\frac{dT}{dt} \\ dx -\\int_{0}^{L}\\left(AkT^{'}\\right)^{'} \\ dx = \\int_{0}^{L} \\ f \\ dx\\tag{5}$$\n",
    "\n",
    "Si hacemos tender a cero $L$, ahora si, llegamos a la Ecuación de calor:\n",
    "\n",
    "$$ \\left \\{ \\begin{array}{l} c\\rho\\frac{dT}{dt} -\\left(AkT^{'}\\right)^{'} =  f  \\ \\ \\text{ para } \\ \\ x\\in I=\\left(0,L \\right) \\text{ es decir en} \\Omega \\\\  \\text{condiciones de borde en } \\ \\partial \\Omega \\\\  \\text{y además condiciones iniciales } \\ T\\left(x,0\\right)=T_{0}\\left(x\\right) \\end{array} \\tag{6}\\right .$$\n",
    "\n",
    "### Ejemplo \n",
    "\n",
    "Ahora resolveremos la Ec. (6) aunque llamaremos $u$ a la variable $T$ y pasamos dividiendo la constante $c\\rho$. Nos queda la ecuación:\n",
    "\n",
    "$$ \\left \\{ \\begin{array}{l} \\dot{u} = a\\nabla^{2} u +  f  \\ \\ \\text{ para } \\ \\ x\\in I=\\left(0,1 \\right) \\text{ es decir en } \\Omega \\\\ u\\left(0,t\\right)= u\\left(1,t\\right)\\text{ en } \\ \\partial \\Omega \\text{ (Dirichlet) } \\\\ u\\left(x,0\\right)=u_{0}\\left(x\\right) \\text{ (condiciones iniciales) } \\  \\end{array} \\tag{7}\\right .$$\n",
    "\n",
    "Note que aquí también hemos supuesto la sección de la barra constante y la conductividad térmica constante con la posición, por eso aparece la derivada segunda respecto de la posición (que la hemos denotado como $\\nabla^{2}$). Note que ahora las condiciones de borde dependen del tiempo y las condiciones iniciales dependen de la posición. \n",
    "\n",
    "Comenzaremos con la resolución utilizando el Método de Euler hacia atrás (Ec. (1)).\n",
    "\n",
    "#### Discretización del tiempo\n",
    "\n",
    "Utilizando las Ecs. (1) y (7) trabajaremos en la discretización primero del tiempo, y luego obtendremos la formulación variacional para discretizar el espacio. Comencemos con algo de notación y la Ec. (7), la ecuación que sigue significa que todas las funciones dentro de los corchetes están evaluadas en el tiempo $t_{n+1}$:\n",
    "\n",
    "$$ \\left[ \\dot{u} = a\\nabla^{2} u +  f  \\right]^{n+1}\\tag{8}$$\n",
    "\n",
    "Note que en el lado izquierdo de la ecuación tenemos la derivada de $u$ evaluada en el tiempo $t_{n+1}$, $\\dot{u}\\left(t_{n+1}\\right)$. Utilizando la Ec. (1), podemos reemplazar esto por su aproximación dada por el Método de Euler hacia atrás:\n",
    "\n",
    "$$\\frac{u^{n+1}-u^{n}}{\\Delta t} \\approx a\\nabla^{2} u^{n+1} +  f^{n+1}$$\n",
    "\n",
    "entonces podemos despejar:\n",
    "\n",
    "$$u^{n+1} \\approx u^{n}+ \\Delta t a\\nabla^{2} u^{n+1} + \\Delta t f^{n+1} \\tag{9}$$\n",
    "\n",
    "Aclarando un poco, $u_{e}$ es la solución exacta de la Ec. (7) y $u_{e}^{n+1}$ es la solución discretizando el tiempo de la Ec. (9). Es decir, ahora aproximaremos $u_{e}^{n+1}$ por su solución dada por elementos finitos $u^{n+1}$ ($u_{e}^{n+1}\\approx u^{n+1}$). \n",
    "\n",
    "#### Discretización del espacio\n",
    "\n",
    "Una vez que tenemos discretizado de alguna manera el tiempo, discretizamos el espacio.\n",
    "\n",
    "$$u_{e}^{n}\\approx u^{n} = \\sum_{j=0}^{N}  \\mathbf{c}_{j}^{n}\\xi_{j}\\left(x\\right)$$\n",
    "$$u_{e}^{n+1}\\approx u^{n+1} = \\sum_{j=0}^{N}  \\mathbf{c}_{j}^{n+1}\\xi_{j}\\left(x\\right)$$\n",
    "\n",
    "donde $N$ son los grados de libertad de discretización espacial y $N_{t}$ es el número de discretización en el tiempo, $\\mathbf{c}$ son constantes y $\\xi_{j}$ son, por ejemplo, las funciones sombrero que vimos al comienzo de este curso.\n",
    "\n",
    "#### Formulación variacional\n",
    "\n",
    "Tomamos la Ec. (9) y multiplicamos por la función de prueba ($v$) e integramos.\n",
    "\n",
    "$$\\int u^{n+1} v \\ dx \\approx \\int \\left( u^{n}+ \\Delta t a\\nabla^{2} u^{n+1} + \\Delta t f^{n+1}\\right) v \\ dx \\tag{10}$$\n",
    "\n",
    "Suponiendo que comenzamos con $u^{0} = u_{0}\\left(x\\right)$ (condición inicial), entonces al paso siguiente $u^{1}$ lo obtendremos a partir de la Ec. (10). Observamos en esta ecuación que aparece $\\nabla^{2} u^{n+1}$ que, como ya lo hemos hablado, tiene derivada de orden dos, por lo tanto debemos reducir el órden. Utilizamos como siempre la fórmula de Green y (suponiendo condiciones de Dirichlet) se tiene:\n",
    "\n",
    "$$\\int u^{n+1} v \\ dx \\approx \\int  u^{n}\\cdot v \\ dx- \\Delta t a \\int \\nabla u^{n+1} \\cdot \\nabla v \\ dx + \\Delta t \\int f^{n+1} v \\ dx \\tag{11}.$$\n",
    "\n",
    "Todas las integrales son en $\\Omega$.\n",
    "\n",
    "Resolveremos este problema con la solución de un problema teórico para mostrar la presición del método. \n",
    "\n",
    "### Código\n",
    "\n",
    "El código está subido a la carpeta ejemplos y es el archivo *ejemplo14.py*. Es similar al resuelto en el [tutorial de FEniCS](https://fenicsproject.org/pub/tutorial/html/._ftut1006.html#ch:fundamentals:diffusion).\n",
    "\n",
    "Continuando con el ejemplo anterior, supondremos que $a=1$, y construiremos una función a partir de la Ec. (7), de tal manera que conozcamos la solución exacta. Por ejemplo, supongamos que la solución exacta es:\n",
    "\n",
    "$$u_{e} = 1+x^{2}+\\beta t$$\n",
    "\n",
    "Calculamos la derivada con respecto al tiempo y da $\\frac{du_{e}}{dt}=\\beta$. Asimismo, la derivada respecto del espacio da $\\frac{\\partial^{2}u_{e}}{\\partial x^{2}} = 2$, reemplazando este resultado en la Ec. (7) podemos deducir que $f=\\beta -2$ y que la condición de Dirichlet en los bordes está dada por $u_{e}\\left(0,t\\right)=1+\\beta t$ y $u_{e}\\left(1,t\\right)=2+\\beta t$. La condición inicial será $u_{0}\\left(x\\right)=1+x^{2}$.\n",
    "\n",
    "Entonces podemos comenzar con el código, como siempre, definiendo algunos parámetros (tiempo total de simulación, pasos de simulación, número de intervalos de la malla, etc.), creando la malla y el espacio de la función de prueba ($v$)."
   ]
  },
  {
   "cell_type": "code",
   "execution_count": 1,
   "metadata": {},
   "outputs": [],
   "source": [
    "from __future__ import print_function\n",
    "from fenics import *\n",
    "import numpy as np\n",
    "\n",
    "T = 10.0            # tiempo final\n",
    "num_steps = 40     # número de pasos\n",
    "dt = T / num_steps # paso de tiempo\n",
    "nx = 20 #numero de intervalos\n",
    "minx, maxx = 0.0, 1.0 \n",
    "mesh = IntervalMesh(nx, minx, maxx)#malla en 1D \n",
    "V = FunctionSpace(mesh, 'P',1)#Lagrange Finite Element"
   ]
  },
  {
   "cell_type": "markdown",
   "metadata": {},
   "source": [
    "Luego definiremos la expresión de la solución exacta (que conocemos de antemano, porque la creamos así). Esto me permitirá calcular varias cosas: las condiciones de borde y la condición inicial. Además creándola de esta forma, podremos actualizar su valor fácilmente a medida que evolucione el tiempo."
   ]
  },
  {
   "cell_type": "code",
   "execution_count": 2,
   "metadata": {},
   "outputs": [],
   "source": [
    "beta = 1.0\n",
    "u_D = Expression('1+x[0]*x[0]+beta*t', degree=1, beta=beta, t=0)"
   ]
  },
  {
   "cell_type": "markdown",
   "metadata": {},
   "source": [
    "Hemos dado el valor de $\\beta=1$ (sin perder generalidad). Definimos las condiciones de borde y las condiciones iniciales."
   ]
  },
  {
   "cell_type": "code",
   "execution_count": 3,
   "metadata": {},
   "outputs": [],
   "source": [
    "def boundary(x, on_boundary):\n",
    "    return on_boundary\n",
    "\n",
    "bc = DirichletBC(V, u_D, boundary)#Condición de borde\n",
    "u_n = interpolate(u_D, V)#Condición inicial"
   ]
  },
  {
   "cell_type": "markdown",
   "metadata": {},
   "source": [
    "Luego, la función ensayo, la de prueba, y la función $f$ (de acuerdo al razonamiento anterior tiene que valer: $f = \\beta -2$)"
   ]
  },
  {
   "cell_type": "code",
   "execution_count": 4,
   "metadata": {},
   "outputs": [],
   "source": [
    "u = TrialFunction(V)\n",
    "v = TestFunction(V)\n",
    "f = Constant(beta-2)"
   ]
  },
  {
   "cell_type": "markdown",
   "metadata": {},
   "source": [
    "Utilizando la Ec. (11) escribimos la formulación variacional de la forma $F=0$:\n",
    "\n",
    "$$F=\\int u^{n+1} v \\ dx - \\int  u^{n}\\cdot v \\ dx + \\Delta t a \\int \\nabla u^{n+1} \\cdot \\nabla v \\ dx - \\Delta t \\int f^{n+1} v \\ dx = 0 \\tag{12}.$$\n",
    "\n",
    "Esto en FEniCS lo escribimos casi textualmente:"
   ]
  },
  {
   "cell_type": "code",
   "execution_count": 5,
   "metadata": {},
   "outputs": [],
   "source": [
    "F = u*v*dx - u_n*v*dx + dt*dot(grad(u), grad(v))*dx - dt*f*v*dx\n",
    "a, L = lhs(F), rhs(F)"
   ]
  },
  {
   "cell_type": "markdown",
   "metadata": {},
   "source": [
    "Hemos reemplazado $u^{n+1}$ por u y $u^{n}$ por u_n.\n",
    "\n",
    "Ahora tenemos que resolverlo para cada paso de tiempo. Lo hacemos con el siguiente for:"
   ]
  },
  {
   "cell_type": "code",
   "execution_count": 6,
   "metadata": {},
   "outputs": [
    {
     "name": "stdout",
     "output_type": "stream",
     "text": [
      "Solving linear variational problem.\n",
      "t= 0.25: error = 8.88e-15\n",
      "t= 0.50: error = 1.31e-14\n",
      "Solving linear variational problem.\n",
      "t= 0.75: error = 1.6e-14\n",
      "t= 1.00: error = 1.78e-14\n",
      "t= 1.25: error = 2e-14\n",
      "t= 1.50: error = 2.13e-14\n",
      "t= 1.75: error = 2.35e-14\n",
      "t= 2.00: error = 2.58e-14\n",
      "t= 2.25: error = 2.66e-14\n",
      "t= 2.50: error = 2.98e-14\n",
      "t= 2.75: error = 3.11e-14\n",
      "t= 3.00: error = 3.46e-14\n",
      "t= 3.25: error = 3.55e-14\n",
      "t= 3.50: error = 3.91e-14\n",
      "t= 3.75: error = 3.82e-14\n",
      "t= 4.00: error = 4.17e-14\n",
      "t= 4.25: error = 4.44e-14\n",
      "t= 4.50: error = 4.8e-14\n",
      "t= 4.75: error = 4.8e-14\n",
      "t= 5.00: error = 5.06e-14\n",
      "Solving linear variational problem.\n",
      "Solving linear variational problem.\n",
      "Solving linear variational problem.\n",
      "Solving linear variational problem.\n",
      "Solving linear variational problem.\n",
      "Solving linear variational problem.\n",
      "Solving linear variational problem.\n",
      "Solving linear variational problem.\n",
      "Solving linear variational problem.\n",
      "Solving linear variational problem.\n",
      "Solving linear variational problem.\n",
      "Solving linear variational problem.\n",
      "Solving linear variational problem.\n",
      "Solving linear variational problem.\n",
      "Solving linear variational problem.\n",
      "Solving linear variational problem.\n",
      "Solving linear variational problem.\n",
      "Solving linear variational problem.\n",
      "t= 5.25: error = 5.24e-14\n",
      "t= 5.50: error = 5.15e-14\n",
      "t= 5.75: error = 5.42e-14\n",
      "t= 6.00: error = 6.04e-14\n",
      "t= 6.25: error = 5.95e-14\n",
      "t= 6.50: error = 6.04e-14\n",
      "t= 6.75: error = 6.48e-14\n",
      "t= 7.00: error = 6.75e-14\n",
      "t= 7.25: error = 6.75e-14\n",
      "t= 7.50: error = 7.11e-14\n",
      "t= 7.75: error = 7.46e-14\n",
      "t= 8.00: error = 7.64e-14\n",
      "t= 8.25: error = 7.64e-14\n",
      "t= 8.50: error = 8.17e-14\n",
      "t= 8.75: error = 7.82e-14\n",
      "t= 9.00: error = 8.35e-14\n",
      "t= 9.25: error = 8.53e-14\n",
      "t= 9.50: error = 8.7e-14\n",
      "t= 9.75: error = 8.88e-14\n",
      "t= 10.00: error = 8.88e-14\n",
      "Solving linear variational problem.\n",
      "Solving linear variational problem.\n",
      "Solving linear variational problem.\n",
      "Solving linear variational problem.\n",
      "Solving linear variational problem.\n",
      "Solving linear variational problem.\n",
      "Solving linear variational problem.\n",
      "Solving linear variational problem.\n",
      "Solving linear variational problem.\n",
      "Solving linear variational problem.\n",
      "Solving linear variational problem.\n",
      "Solving linear variational problem.\n",
      "Solving linear variational problem.\n",
      "Solving linear variational problem.\n",
      "Solving linear variational problem.\n",
      "Solving linear variational problem.\n",
      "Solving linear variational problem.\n",
      "Solving linear variational problem.\n",
      "Solving linear variational problem.\n",
      "Solving linear variational problem.\n"
     ]
    }
   ],
   "source": [
    "uu = Function(V)\n",
    "u_inter = []\n",
    "t = 0.0\n",
    "\n",
    "for nn in range(num_steps):\n",
    "    # actualiza el tiempo\n",
    "    t += dt# t = t+dt\n",
    "    u_D.t = t \n",
    "    # calcula la solución\n",
    "    solve(a == L, uu, bc)\n",
    "    # Temperatura a la mitad de la barra\n",
    "    u_inter.append(uu(0.5))    \n",
    "    \n",
    "    #Calcula errores\n",
    "    u_exacta = interpolate(u_D,V)\n",
    "    error = np.abs(u_exacta.vector()-uu.vector()).max()\n",
    "    print('t= %.2f: error = %.3g' %(t,error))\n",
    "    \n",
    "    u_n.assign(uu)"
   ]
  },
  {
   "cell_type": "markdown",
   "metadata": {},
   "source": [
    "En cada paso, hemos impreso el error en el cálculo. Luego, podemos dibujar la solución."
   ]
  },
  {
   "cell_type": "code",
   "execution_count": 7,
   "metadata": {},
   "outputs": [
    {
     "name": "stdout",
     "output_type": "stream",
     "text": [
      "Tipo de variable: <class 'dolfin.function.argument.Argument'>\n",
      "Cantidad de celdas: 20\n",
      "Cantidad de vertices: 21\n"
     ]
    },
    {
     "data": {
      "image/png": "[encoded data removed]",
      "text/plain": [
       "<Figure size 432x288 with 2 Axes>"
      ]
     },
     "metadata": {
      "needs_background": "light"
     },
     "output_type": "display_data"
    }
   ],
   "source": [
    "print('Tipo de variable:',type(u))\n",
    "\n",
    "import matplotlib.pyplot as plt\n",
    "import numpy as np\n",
    "\n",
    "#Extraigo los datos de la solucion u.\n",
    "uh = uu.compute_vertex_values(mesh) \n",
    "\n",
    "print('Cantidad de celdas:',nx)\n",
    "print('Cantidad de vertices:',len(uh))\n",
    "\n",
    "xu = np.linspace(0.0, 1.0, len(uh),endpoint = True)\n",
    "\n",
    "plt.subplot(2,1,1)\n",
    "plt.plot(xu,uh,'ro',markersize=10)\n",
    "\n",
    "##Comparo con solucion exacta\n",
    "xe = np.arange(0.0,1.0,0.001)\n",
    "ue = 1.0+xe**2.0+beta*T\n",
    "plt.plot(xe,ue,'b')\n",
    "plt.ylabel('Solución en t = 10 s')\n",
    "plt.xlabel('x')\n",
    "\n",
    "plt.subplot(2,1,2)\n",
    "tiempo = np.arange(0.0,T,dt)\n",
    "plt.plot(tiempo,u_inter,'b')\n",
    "plt.ylabel('Solución en x = 0.5')\n",
    "plt.xlabel('t (s)')\n",
    "\n",
    "plt.show()"
   ]
  },
  {
   "cell_type": "markdown",
   "metadata": {},
   "source": [
    "### Ahora con Euler hacia adelante\n",
    "\n",
    "Veamos el mismo ejemplo pero ahora con el enfoque Euler hacia adelante, tomamos la Ec. (8) pero ahora en lugar de evaluarla en el tiempo $n+1$ lo haremos en el tiempo $n$:\n",
    "\n",
    "$$ \\left[ \\dot{u} = a\\nabla^{2} u +  f  \\right]^{n}.$$\n",
    "\n",
    "Entonces, ahora la derivada de $u$ estará evaluada en el tiempo $t_{n}$, $\\dot{u}\\left(t_{n}\\right)$. Utilizando la Ec. (2), podemos reemplazar esto por su aproximación dada por el Método de Euler hacia adelante:\n",
    "\n",
    "$$\\frac{u^{n+1}-u^{n}}{\\Delta t} \\approx a\\nabla^{2} u^{n} +  f^{n}.$$\n",
    "\n",
    "Realizando el mismo procedimiento, podemos encontrar la formulación variacional y llegaremos a la siguiente expresión:\n",
    "\n",
    "$$\\int u^{n+1} v \\ dx - \\int  u^{n}\\cdot v \\ dx + \\Delta t a \\int \\nabla u^{n} \\cdot \\nabla v \\ dx - \\Delta t \\int f^{n} v \\ dx = 0.$$\n",
    "\n",
    "El código será similar, está implementado en el *ejemplo15.py*. Recordemos que el método Euler hacia adelante es condicionalmente esable, por consiguiente, el paso de tiempo que se debe usar será mucho más pequeño (probar con $N_{t}=$ 400, $N_{t}=$ 4000 y $N_{t}=$ 40000). \n",
    "\n",
    "## Conclusiones\n",
    "\n",
    "- Hemos introducido la resolución de problemas con funciones variables en el tiempo utilizando elementos finitos.\n",
    "- Hemos resuelto la ecuación de calor, la cual es un tipo de ecuación que se denomina [ecuación parabólica](https://en.wikipedia.org/wiki/Parabolic_partial_differential_equation) utilizando dos enfoques diferentes para aproximar la derivada temporal aproximación: Euler hacia adelante (explícito) y hacia atrás (implícito). \n",
    "- El método de Euler explícito es condicionalmente estable, hemos visto que el paso de tiempo debe ser mucho más pequeño para obtener la solución. Algunos detalles más sobre este problema se pueden estudiar en el siguiente [enlace](https://hal.archives-ouvertes.fr/hal-01401125/document).\n"
   ]
  },
  {
   "cell_type": "code",
   "execution_count": null,
   "metadata": {},
   "outputs": [],
   "source": []
  }
 ],
 "metadata": {
  "kernelspec": {
   "display_name": "Python 3 (ipykernel)",
   "language": "python",
   "name": "python3"
  },
  "language_info": {
   "codemirror_mode": {
    "name": "ipython",
    "version": 3
   },
   "file_extension": ".py",
   "mimetype": "text/x-python",
   "name": "python",
   "nbconvert_exporter": "python",
   "pygments_lexer": "ipython3",
   "version": "3.10.12"
  }
 },
 "nbformat": 4,
 "nbformat_minor": 2
}
